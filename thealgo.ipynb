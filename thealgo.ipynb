{
 "metadata": {
  "language_info": {
   "codemirror_mode": {
    "name": "ipython",
    "version": 3
   },
   "file_extension": ".py",
   "mimetype": "text/x-python",
   "name": "python",
   "nbconvert_exporter": "python",
   "pygments_lexer": "ipython3",
   "version": 3
  },
  "orig_nbformat": 2
 },
 "nbformat": 4,
 "nbformat_minor": 2,
 "cells": [
  {
   "cell_type": "code",
   "execution_count": null,
   "metadata": {},
   "outputs": [],
   "source": [
    "import time, datetime\n",
    "import random\n",
    "import os, json\n",
    "from collections import OrderedDict\n",
    "\n",
    "# Create a dictionary of posts\n",
    "posts = ['post 1', 'post 2', 'post 3', 'post 4', 'post 5', 'post 6', 'post 7']\n",
    "rank = {'post 1':0, 'post 2':0, 'post 3':0, 'post 4':0, 'post 5':0, 'post 6':0, 'post 7':0}\n",
    "with open('rank.txt', 'w') as outfile:\n",
    "    json.dump(rank, outfile)\n",
    "\n",
    "\n",
    "\n",
    "# Loop to bring up the post in question\n",
    "while True:\n",
    "    with open('rank.txt') as json_file:\n",
    "        data = json.load(json_file)\n",
    "    select = random.randint(0, 6)\n",
    "    vote_c = input(\"What do you vote for %s\" % (posts[select]))\n",
    "    post_num = list(list(data.items())[select])[0]\n",
    "    rank[post_num] = rank[post_num] + int(vote_c)\n",
    "    timestamp = datetime.datetime.now()\n",
    "    with open('rank.txt', 'w') as outfile:\n",
    "     json.dump(rank, outfile)\n",
    "    print(timestamp)\n",
    "    sorted_data = sorted(data.items(), key=lambda x: x[1], reverse=True)\n",
    "    print(sorted_data)\n",
    "    time.sleep(random.randint(2,30))\n",
    "    \n"
   ]
  }
 ]
}